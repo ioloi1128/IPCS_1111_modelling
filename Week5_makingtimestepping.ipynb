{
  "nbformat": 4,
  "nbformat_minor": 0,
  "metadata": {
    "colab": {
      "provenance": [],
      "include_colab_link": true
    },
    "kernelspec": {
      "name": "python3",
      "display_name": "Python 3"
    },
    "language_info": {
      "name": "python"
    }
  },
  "cells": [
    {
      "cell_type": "markdown",
      "metadata": {
        "id": "view-in-github",
        "colab_type": "text"
      },
      "source": [
        "<a href=\"https://colab.research.google.com/github/ioloi1128/IPCS_1111_modelling/blob/main/Week5_makingtimestepping.ipynb\" target=\"_parent\"><img src=\"https://colab.research.google.com/assets/colab-badge.svg\" alt=\"Open In Colab\"/></a>"
      ]
    },
    {
      "cell_type": "markdown",
      "source": [
        "Week 5: Making a model from the energy balance equation.\n",
        "\n",
        "modified from\n",
        "https://brian-rose.github.io/ClimateLaboratoryBook/courseware/zero-dim-ebm.html\n",
        "\n",
        "https://brian-rose.github.io/ClimateLaboratoryBook/courseware/assignment-zero-dim-ebm.html"
      ],
      "metadata": {
        "id": "W0DkxVSCbVPd"
      }
    },
    {
      "cell_type": "markdown",
      "source": [
        "## Recap of Week 3:\n",
        "\n",
        "By assuming energy equilibrium, we derive the equilibrium surface temperature $T_s$:\n",
        "\n",
        "$$ (1-\\alpha) Q = \\tau \\sigma T_s^4 $$\n",
        "\n",
        "where $\\sigma$ is the Stephan-Boltzmann constant, $5.67*10^{-8} W m^{-2} K^{-4}$, $\\tau$ is the **transmissivity** of the atmosphere, $\\alpha$ is reflectivity, and Q is solar radiation."
      ],
      "metadata": {
        "id": "4J14RhNJbgld"
      }
    },
    {
      "cell_type": "code",
      "source": [
        "Q = 341.3  # the insolation\n",
        "Freflected = 101.9  #  reflected shortwave flux in W/m2\n",
        "alpha = Freflected / Q\n",
        "print(alpha)\n",
        "\n",
        "OLRobserved = 238.5  # in W/m2\n",
        "sigma = 5.67E-8  # S-B constant\n",
        "Tsobserved = 288.  # global average surface temperature\n",
        "tau = OLRobserved / sigma / Tsobserved**4  # solve for tuned value of transmissivity\n",
        "print(tau)"
      ],
      "metadata": {
        "colab": {
          "base_uri": "https://localhost:8080/"
        },
        "id": "a76jYKnv0UJz",
        "outputId": "ca97eb12-e50c-4c19-cc16-b53c8ca847c7"
      },
      "execution_count": null,
      "outputs": [
        {
          "output_type": "stream",
          "name": "stdout",
          "text": [
            "0.29856431292118374\n",
            "0.6114139923687016\n"
          ]
        }
      ]
    },
    {
      "cell_type": "code",
      "source": [
        "#  define a reusable function!\n",
        "def equilibrium_temperature(alpha,Q,tau):\n",
        "    return ((1-alpha)*Q/(tau*sigma))**(1/4)\n",
        "\n",
        "Teq_observed = equilibrium_temperature(alpha,Q,tau)\n",
        "print(Teq_observed)"
      ],
      "metadata": {
        "colab": {
          "base_uri": "https://localhost:8080/"
        },
        "id": "vS2kQp6DmiBg",
        "outputId": "32299722-b21d-4f92-dc00-fe9b0bc54157"
      },
      "execution_count": null,
      "outputs": [
        {
          "output_type": "stream",
          "name": "stdout",
          "text": [
            "288.27131447889224\n"
          ]
        }
      ]
    },
    {
      "cell_type": "markdown",
      "source": [
        "## Part I: Time derivative of zero equilibrium model\n",
        "\n",
        "### An energy balance **equation**\n",
        "\n",
        "We will write the **total energy budget** of the Earth system as\n",
        "\n",
        "$$\n",
        "\\begin{align} \n",
        "\\frac{dE}{dt} &= \\text{net energy flux in to system} \\\\\n",
        " &= \\text{flux in – flux out} \\\\\n",
        " &= \\text{ASR} - \\text{OLR}\n",
        "\\end{align}\n",
        "$$\n",
        "\n",
        "where $E$ is the **enthalpy** or **heat content** of the total system.\n",
        "\n",
        "We will express the budget **per unit surface area**, so each term above has units W m$^{-2}$"
      ],
      "metadata": {
        "id": "ltDEesUrbTSi"
      }
    },
    {
      "cell_type": "markdown",
      "source": [
        "**This equation is the starting point for EVERY CLIMATE MODEL.**\n",
        "\n",
        "But so far, we don’t actually have a MODEL. We just have a statement of a budget. To use this budget to make a model, we need to relate terms in the budget to state variables of the atmosphere-ocean system.\n",
        "\n",
        "For now, the state variable we are most interested in is **temperature** – because it is directly connected to the physics of each term above.\n"
      ],
      "metadata": {
        "id": "PsdZMZi9cdF5"
      }
    },
    {
      "cell_type": "markdown",
      "source": [
        "### An energy balance **model**\n",
        "\n",
        "If we now suppose that \n",
        "\n",
        "$$ E = C T_s $$\n",
        "\n",
        "where $T_s$ is the **global mean surface temperature**, and $C$ is a constant – the **effective heat capacity** of the atmosphere- ocean column.\n",
        "\n",
        "then our budget equation becomes:"
      ],
      "metadata": {
        "id": "3PKxH9wncz85"
      }
    },
    {
      "cell_type": "markdown",
      "source": [
        "$$ C \\frac{dT_s}{dt} = \\text{ASR} - \\text{OLR} $$"
      ],
      "metadata": {
        "id": "9ZJ7fB-odLlt"
      }
    },
    {
      "cell_type": "markdown",
      "source": [
        "where\n",
        "\n",
        "- $C$ is the **heat capacity** of Earth system, in units of J m$^{-2}$ K$^{-1}$.\n",
        "- $\\frac{dT_s}{dt}$ is the rate of change of global average surface temperature."
      ],
      "metadata": {
        "id": "PSEG9guGdRl3"
      }
    },
    {
      "cell_type": "markdown",
      "source": [
        "By adopting this equation, we are assuming that the energy content of the Earth system (atmosphere, ocean, ice, etc.) is *proportional to surface temperature*.\n",
        "\n",
        "##In-class questions I:\n",
        "- Why is this a sensible assumption?\n",
        "- What determines the heat capacity $C$?\n",
        "- What are some limitations of this assumption?\n"
      ],
      "metadata": {
        "id": "n0iNclMAdt6c"
      }
    },
    {
      "cell_type": "markdown",
      "source": [
        "For our purposes here we are going to use a value of C equivalent to heating 100 meters of water:\n",
        "\n",
        "$$C = c_w \\rho_w H$$\n",
        "\n",
        "where \n",
        "\n",
        "$c_w = 4 \\times 10^3$ J kg$^{-1}$ $^\\circ$C$^{-1}$ is the specific heat of water,\n",
        "\n",
        "$\\rho_w = 10^3$ kg m$^{-3}$ is the density of water, and\n",
        "\n",
        "$H$ is an effective depth of water that is heated or cooled."
      ],
      "metadata": {
        "id": "qmSyV7kWeIXg"
      }
    },
    {
      "cell_type": "code",
      "source": [
        "c_w = 4E3  #  Specific heat of water in J/kg/K\n",
        "rho_w = 1E3  #  Density of water in kg/m3\n",
        "H = 100.   #  Depth of water in m\n",
        "C = c_w * rho_w * H   #  Heat capacity of the model \n",
        "print('The effective heat capacity is {:.1e} J/m2/K'.format(C))"
      ],
      "metadata": {
        "colab": {
          "base_uri": "https://localhost:8080/"
        },
        "id": "gXzJzYRZeOz8",
        "outputId": "439ad4cf-3159-41fb-ef04-cd592db93835"
      },
      "execution_count": null,
      "outputs": [
        {
          "output_type": "stream",
          "name": "stdout",
          "text": [
            "The effective heat capacity is 4.0e+08 J/m2/K\n"
          ]
        }
      ]
    },
    {
      "cell_type": "markdown",
      "source": [
        "## In-class Question II:\n",
        "\n",
        "Now we have $$ C \\frac{dT_s}{dt} = \\text{ASR} - \\text{OLR} $$\n",
        "where C = 4*10^8 J/m2/K.\n",
        "\n",
        "How to solve this model?\n",
        "That is, how $T_s$ evolves from some specified initial condition."
      ],
      "metadata": {
        "id": "PPTNZlj04bg3"
      }
    },
    {
      "cell_type": "markdown",
      "source": [
        "### Solving the energy balance model\n",
        "\n",
        "This is a first-order Ordinary Differential Equation (ODE) for $T_s$ as a function of time. It is also **our very first climate model!**\n",
        "\n",
        "To solve it (i.e. see how $T_s$ evolves from some specified initial condition) we have two choices:\n",
        "\n",
        "1. Solve it analytically\n",
        "2. Solve it numerically"
      ],
      "metadata": {
        "id": "HHPuaAzGeWux"
      }
    },
    {
      "cell_type": "markdown",
      "source": [
        "Option 1 (analytical) will usually not be possible because the equations will typically be too complex and non-linear. This is why computers are our best friends in the world of climate modeling.\n",
        "\n",
        "HOWEVER it is often useful and instructive to simplify a model down to something that is analytically solvable when possible. Why? Two reasons:\n",
        "\n",
        "1. Analysis will often yield a deeper understanding of the behavior of the system\n",
        "2. Gives us a benchmark against which to test the results of our numerical solutions."
      ],
      "metadata": {
        "id": "5o79FG7hez5X"
      }
    },
    {
      "cell_type": "markdown",
      "source": [
        "Recall that the derivative is the **instantaneous rate of change**. It is defined as \n",
        "\n",
        "$$ \\frac{dT}{dt} = \\lim_{\\Delta t\\rightarrow 0}⁡ \\frac{\\Delta T}{\\Delta t}$$\n",
        "\n",
        "- **On the computer there is no such thing as an instantaneous change.** \n",
        "- We are always dealing with *discrete quantities*.\n",
        "- So we approximate the derivative with $\\Delta T/ \\Delta t$. \n",
        "- So long as we take the time interval $\\Delta t$ \"small enough\", the approximation is valid and useful.\n",
        "- (The meaning of \"small enough\" varies widely in practice. Let's not talk about it now)"
      ],
      "metadata": {
        "id": "XYMLKet-e-R0"
      }
    },
    {
      "cell_type": "markdown",
      "source": [
        "So we write our model as\n",
        "\n",
        "$$ C  \\frac{\\Delta T}{\\Delta t} \\approx \\text{ASR} - \\text{OLR}$$\n",
        "\n",
        "where $\\Delta T$ is the **change in temperature predicted by our model** over a short time interval $\\Delta t$."
      ],
      "metadata": {
        "id": "OkCzfHUZfHno"
      }
    },
    {
      "cell_type": "markdown",
      "source": [
        "We can now use this to **make a prediction**: \n",
        "\n",
        "Given a current temperature $T_1$ at time $t_1$, what is the temperature $T_2$ at a future time $t_2$?"
      ],
      "metadata": {
        "id": "0xUddfxofMr4"
      }
    },
    {
      "cell_type": "markdown",
      "source": [
        "We can write\n",
        "\n",
        "$$ \\Delta T = T_2-T_1 $$\n",
        "$$ \\Delta t = t_2-t_1 $$\n",
        "\n",
        "and so our model says\n",
        "\n",
        "$$ C  \\frac{T_2-T_1}{\\Delta t} = \\text{ASR} - \\text{OLR} $$\n",
        "\n",
        "Which we can rearrange to **solve for the future temperature**:\n",
        "\n",
        "$$ T_2 = T_1 + \\frac{\\Delta t}{C} \\left( \\text{ASR} - \\text{OLR}(T_1) \\right)  $$\n",
        "\n",
        "We now have a formula with which to make our prediction!\n",
        "\n",
        "Notice that we have written the OLR as a *function of temperature*. We will use the current temperature $T_1$ to compute the OLR, and use that OLR to determine the future temperature."
      ],
      "metadata": {
        "id": "SeCnNP4ffXeR"
      }
    },
    {
      "cell_type": "markdown",
      "source": [
        "____________\n",
        "## 7. Numerical solution of the Energy Balance Model\n",
        "____________"
      ],
      "metadata": {
        "id": "uIhQiSq_zfJx"
      }
    },
    {
      "cell_type": "markdown",
      "source": [
        "Suppose that, due to global warming (changes in atmospheric composition and subsequent changes in cloudiness):\n",
        "\n",
        "- The longwave transmissitivity decreases to $\\tau = 0.57$ \n",
        "- The planetary albedo increases to $\\alpha = 0.32$\n",
        "\n",
        "What is the ***new equilibrium temperature***?\n",
        "\n"
      ],
      "metadata": {
        "id": "X7mwKFFhzu_R"
      }
    },
    {
      "cell_type": "code",
      "source": [
        "Teq_new = equilibrium_temperature(0.32,Q,0.57)\n",
        "#  an example of formatted print output, limiting to two or one decimal places\n",
        "print('The new equilibrium temperature is {:.2f} K.'.format(Teq_new))\n",
        "print('The equilibrium temperature increased by about {:.1f} K.'.format(Teq_new-Teq_observed))"
      ],
      "metadata": {
        "colab": {
          "base_uri": "https://localhost:8080/"
        },
        "id": "eDZwwuV0mMft",
        "outputId": "629a22cd-4049-4325-926b-11a3cffc4c12"
      },
      "execution_count": null,
      "outputs": [
        {
          "output_type": "stream",
          "name": "stdout",
          "text": [
            "The new equilibrium temperature is 291.10 K.\n",
            "The equilibrium temperature increased by about 2.8 K.\n"
          ]
        }
      ]
    },
    {
      "cell_type": "markdown",
      "source": [
        "Let's predict how the surface temperature evolves from the current temperature 288K to the 291.10K in this new climate scenario.\n",
        "\n",
        "The quantity $\\Delta t$ is called a **timestep**. It is the smallest time interval represented in our model.\n",
        "\n",
        "Here we're going to use a timestep of 1 year:"
      ],
      "metadata": {
        "id": "XvQ9KovBmBCy"
      }
    },
    {
      "cell_type": "code",
      "source": [
        "dt = 60. * 60. * 24. * 365.   # one year expressed in seconds"
      ],
      "metadata": {
        "id": "rwbUurXIzM_v"
      },
      "execution_count": null,
      "outputs": []
    },
    {
      "cell_type": "markdown",
      "source": [
        "Define ASR and OLR."
      ],
      "metadata": {
        "id": "erZgjGCr0Gmu"
      }
    },
    {
      "cell_type": "code",
      "source": [
        "def ASR(Q=Q, alpha=alpha):\n",
        "    return (1-alpha)*Q\n",
        "\n",
        "def OLR(T, tau=tau):\n",
        "    return tau * sigma * T**4"
      ],
      "metadata": {
        "id": "Nq-HiUdx0K9J"
      },
      "execution_count": null,
      "outputs": []
    },
    {
      "cell_type": "markdown",
      "source": [
        "### Try stepping forward one timestep"
      ],
      "metadata": {
        "id": "7MznB8Jw0JYA"
      }
    },
    {
      "cell_type": "code",
      "source": [
        "# Try a single timestep, assuming we have working functions for ASR and OLR\n",
        "T1 = 288.\n",
        "T2 = T1 + dt / C * ( ASR(alpha=0.32) - OLR(T1, tau=0.57) )\n",
        "print(T2)"
      ],
      "metadata": {
        "colab": {
          "base_uri": "https://localhost:8080/"
        },
        "id": "A0OVIstx16HX",
        "outputId": "a19f5596-c346-4e9a-f112-bb8b19202b0d"
      },
      "execution_count": null,
      "outputs": [
        {
          "output_type": "stream",
          "name": "stdout",
          "text": [
            "288.7678026614462\n"
          ]
        }
      ]
    },
    {
      "cell_type": "markdown",
      "source": [
        "## Try another timestep."
      ],
      "metadata": {
        "id": "iXTZPWIS2BLF"
      }
    },
    {
      "cell_type": "code",
      "source": [
        "T1 = T2\n",
        "T2 = T1 + dt / C * ( ASR(alpha=0.32) - OLR(T1, tau=0.57) )\n",
        "print(T2)"
      ],
      "metadata": {
        "colab": {
          "base_uri": "https://localhost:8080/"
        },
        "id": "ClrVGdPt2D5y",
        "outputId": "1378b301-9462-4e8a-f9fa-9e81aeade58b"
      },
      "execution_count": null,
      "outputs": [
        {
          "output_type": "stream",
          "name": "stdout",
          "text": [
            "289.3479210238739\n"
          ]
        }
      ]
    },
    {
      "cell_type": "markdown",
      "source": [
        "## Define a function for time forwarding"
      ],
      "metadata": {
        "id": "0SDVCSFj20Oa"
      }
    },
    {
      "cell_type": "code",
      "source": [
        "def step_forward(T):\n",
        "    return T + dt / C * ( ASR(alpha=0.32) - OLR(T, tau=0.57) )"
      ],
      "metadata": {
        "id": "-6_xCjb321iQ"
      },
      "execution_count": null,
      "outputs": []
    },
    {
      "cell_type": "markdown",
      "source": [
        "## Automate the time stepping as a loop"
      ],
      "metadata": {
        "id": "LXngG5jS3ZaN"
      }
    },
    {
      "cell_type": "code",
      "source": [
        "import numpy as np\n",
        "\n",
        "numsteps = 20\n",
        "Tsteps = np.zeros(numsteps+1)\n",
        "Years = np.zeros(numsteps+1)\n",
        "Tsteps[0] = 288. \n",
        "for n in range(numsteps):\n",
        "    Years[n+1] = n+1\n",
        "    Tsteps[n+1] = step_forward( Tsteps[n] )\n",
        "print(Tsteps)"
      ],
      "metadata": {
        "colab": {
          "base_uri": "https://localhost:8080/"
        },
        "id": "aA7B_BYO3Yvu",
        "outputId": "8bb73e3c-54de-43fd-c26a-3c5038b8de30"
      },
      "execution_count": null,
      "outputs": [
        {
          "output_type": "stream",
          "name": "stdout",
          "text": [
            "[288.         288.76780266 289.34792102 289.78523685 290.11433323\n",
            " 290.36166675 290.54736768 290.68669049 290.79115953 290.86946109\n",
            " 290.92813114 290.97208122 291.00499865 291.02964965 291.0481083\n",
            " 291.06192909 291.07227674 291.08002371 291.08582346 291.09016532\n",
            " 291.09341571]\n"
          ]
        }
      ]
    },
    {
      "cell_type": "markdown",
      "source": [
        "## Plot the loop"
      ],
      "metadata": {
        "id": "kNRf8I3h3mza"
      }
    },
    {
      "cell_type": "code",
      "source": [
        "# a special instruction for the Jupyter notebook\n",
        "#   Display all plots inline in the notebook\n",
        "%matplotlib inline  \n",
        "#  import the plotting package\n",
        "import matplotlib.pyplot as plt"
      ],
      "metadata": {
        "id": "NRUAI0m53ktK"
      },
      "execution_count": null,
      "outputs": []
    },
    {
      "cell_type": "code",
      "source": [
        "plt.plot(Years, Tsteps)\n",
        "plt.xlabel('Years')\n",
        "plt.ylabel('Global mean temperature (K)');"
      ],
      "metadata": {
        "colab": {
          "base_uri": "https://localhost:8080/",
          "height": 279
        },
        "id": "5FIXs7pt3s6F",
        "outputId": "e26ba4b9-a86d-417d-9b99-8cec2decb5a5"
      },
      "execution_count": null,
      "outputs": [
        {
          "output_type": "display_data",
          "data": {
            "text/plain": [
              "<Figure size 432x288 with 1 Axes>"
            ],
            "image/png": "[encoded data removed]"
          },
          "metadata": {
            "needs_background": "light"
          }
        }
      ]
    },
    {
      "cell_type": "markdown",
      "source": [
        "Note how the temperature *adjusts smoothly toward the equilibrium temperature*, that is, the temperature at which\n",
        "ASR = OLR.\n",
        "\n",
        "**If the planetary energy budget is out of balance, the temperature must change so that the OLR gets closer to the ASR!**\n",
        "\n",
        "The adjustment is actually an *exponential decay* process: The rate of adjustment slows as the temperature approaches equilibrium. \n",
        "\n",
        "The temperature gets very very close to equilibrium but never reaches it exactly."
      ],
      "metadata": {
        "id": "1Yud-1Gq4Jmr"
      }
    },
    {
      "cell_type": "markdown",
      "source": [
        "## In-class Exercises III.1\n",
        "\n",
        "## Time-dependent warming in the zero-dimensional Energy Balance Model\n",
        "\n",
        "In lecture we defined a zero-dimensional energy balance model for the global mean surface temperature $T_s$ as follows\n",
        "\n",
        "$$ C  \\frac{dT_s}{dt} = \\text{ASR} - \\text{OLR}$$\n",
        "\n",
        "$$ \\text{ASR} = (1-\\alpha) Q $$\n",
        "\n",
        "$$ \\text{OLR} = \\tau \\sigma T_s^4$$\n",
        "\n",
        "where we defined these terms:\n",
        "\n",
        "- $C$ is a heat capacity for the atmosphere-ocean column\n",
        "- $\\alpha$ is the global mean planetary albedo\n",
        "- $\\sigma = 5.67 \\times 10^{-8}$ W m$^{-2}$ K$^{-4}$ is the Stefan-Boltzmann constant\n",
        "- $\\tau$ is our transmissivity parameter for the atmosphere.\n",
        "- $Q$ is the global-mean incoming solar radiation, or *insolation*."
      ],
      "metadata": {
        "id": "Fm39rE5OngH9"
      }
    },
    {
      "cell_type": "markdown",
      "source": [
        "Refer back to our class notes for parameter values.\n",
        "\n",
        "1. If the heat penetrated to twice as deep into the ocean, the value of $C$ would be twice as large. Would this affect the **equilibrium temperature**? Why or why not?\n"
      ],
      "metadata": {
        "id": "tf7TJFaPzBlV"
      }
    },
    {
      "cell_type": "markdown",
      "source": [
        "2. In class we used numerical timestepping to investigate a *hypothetical climate change scenario* in which $\\tau$ decreases to 0.57 and $\\alpha$ increases to 0.32. We produced a graph of $T_s(t)$ over a twenty year period, starting from an initial temperature of 288 K. Here you will repeat this calculate with a larger value of $C$ and compare the warming rates. Specifically:\n",
        "    - Repeat our in-class time-stepping calculation with the same parameters we used before (including a heat capacity of $C = 4\\times10^8$ J m$^{-2}$ K$^{-1}$), but extend it to 50 years. **You should create an array of temperatures with 51 elements, beginning from 288 K**.\n",
        "    - Now do it again, but use $C = 8\\times10^8$ J m$^{-2}$ K$^{-1}$ (representing 200 meters of water). You should **create another 51-element array** of temperatures also beginning from 288 K.\n",
        "    - **Make a well-labeled graph** that compares the two temperatures over the 50-year period.\n",
        "    \n"
      ],
      "metadata": {
        "id": "i7F4i2zzoz44"
      }
    },
    {
      "cell_type": "markdown",
      "source": [
        "3. What do your results show about the role of heat capacity on climate change? **Give a short written answer.**"
      ],
      "metadata": {
        "id": "_yo2qTMgpTz_"
      }
    },
    {
      "cell_type": "code",
      "source": [
        "c_w = 4E3  #  Specific heat of water in J/kg/K\n",
        "rho_w = 1E3  #  Density of water in kg/m3\n",
        "H = 200.   #  Depth of water in m\n",
        "C = c_w * rho_w * H   #  Heat capacity of the model \n",
        "print('The effective heat capacity is {:.1e} J/m2/K'.format(C))"
      ],
      "metadata": {
        "colab": {
          "base_uri": "https://localhost:8080/"
        },
        "id": "an5qp5nFo1ld",
        "outputId": "5359dce1-4cdf-4b6e-be69-1503f1c25e90"
      },
      "execution_count": null,
      "outputs": [
        {
          "output_type": "stream",
          "name": "stdout",
          "text": [
            "The effective heat capacity is 8.0e+08 J/m2/K\n"
          ]
        }
      ]
    },
    {
      "cell_type": "code",
      "source": [
        "def step_forward(T,C):\n",
        "    return T + dt / C * ( ASR(alpha=0.32) - OLR(T, tau=0.57) )\n",
        "\n",
        "numsteps = 50\n",
        "Tsteps1 = np.zeros(numsteps+1)\n",
        "Tsteps2 = np.zeros(numsteps+1)\n",
        "Years = np.zeros(numsteps+1)\n",
        "Tsteps2[0] = 288.\n",
        "Tsteps1[0] = 288.\n",
        "for n in range(numsteps):\n",
        "    Years[n+1] = n+1\n",
        "    Tsteps1[n+1] = step_forward( Tsteps1[n], c_w * rho_w * 100)\n",
        "    Tsteps2[n+1] = step_forward( Tsteps2[n], c_w * rho_w * 200)\n",
        "print(Tsteps)"
      ],
      "metadata": {
        "colab": {
          "base_uri": "https://localhost:8080/"
        },
        "id": "bMkfu3zmp2Do",
        "outputId": "54c96031-befa-4c13-aeda-736202803994"
      },
      "execution_count": null,
      "outputs": [
        {
          "output_type": "stream",
          "name": "stdout",
          "text": [
            "[288.         288.38390133 288.72097528 289.01677926 289.27624693\n",
            " 289.50374981 289.70315491 289.87787792 290.03093201 290.16497231\n",
            " 290.28233615 290.38507932 290.47500863 290.55371103 290.62257954\n",
            " 290.68283635 290.73555329 290.78166997 290.82200981 290.8572942\n",
            " 290.88815496 290.91514538 290.93874983 290.95939231 290.97744391\n",
            " 290.99322937 291.00703282 291.01910285 291.02965696 291.03888536\n",
            " 291.04695448 291.05400984 291.06017874 291.06557251 291.0702885\n",
            " 291.07441185 291.07801701 291.08116909 291.08392501 291.08633455\n",
            " 291.08844125 291.09028314 291.09189353 291.0933015  291.09453248\n",
            " 291.09560874 291.0965497  291.09737239 291.09809166 291.09872051\n",
            " 291.09927032]\n"
          ]
        }
      ]
    },
    {
      "cell_type": "code",
      "source": [
        "plt.plot(Years, Tsteps1)\n",
        "plt.plot(Years, Tsteps2)\n",
        "\n",
        "plt.xlabel('Years')\n",
        "plt.ylabel('Global mean temperature (K)');"
      ],
      "metadata": {
        "colab": {
          "base_uri": "https://localhost:8080/",
          "height": 279
        },
        "id": "LDh4k7QLq5Uq",
        "outputId": "078a17b1-b0d3-4f0f-c8c0-bb6a2e0275b7"
      },
      "execution_count": null,
      "outputs": [
        {
          "output_type": "display_data",
          "data": {
            "text/plain": [
              "<Figure size 432x288 with 1 Axes>"
            ],
            "image/png": "[encoded data removed]"
          },
          "metadata": {
            "needs_background": "light"
          }
        }
      ]
    },
    {
      "cell_type": "markdown",
      "source": [
        "## In-class Exercises III.2\n",
        "\n",
        "## Time-dependent warming in the zero-dimensional Energy Balance Model\n",
        "\n",
        "Please compare temperature evolution of three scenarios of climate change from the original equilibrium temperature 288K to the new equilibrium temperature.\n",
        "\n",
        "In the first scenario, the planetary albedo changes to 0.2, but the transmissity remains 0.61.\n",
        "\n",
        "In the 2nd scenario, the planetary albedo remains to 0.32, but the transmissity changes to 0.57.\n",
        "\n",
        "In the 3rd scenario, the planetary albedo changes to 0.32, and the transmissity changes to 0.61.\n",
        "\n",
        "**Make a well-labeled graph** that compares the three temperatures over the 50-year period, and write down what you find."
      ],
      "metadata": {
        "id": "h3FqdZT2rmLM"
      }
    },
    {
      "cell_type": "code",
      "source": [
        "H = 100.   #  Depth of water in m\n",
        "C = c_w * rho_w * H   #  Heat capacity of the model \n",
        "print('The effective heat capacity is {:.1e} J/m2/K'.format(C))\n",
        "\n",
        "def step_forward(T,alpha1,tau1):\n",
        "    return T + dt / C * ( ASR(alpha=alpha1) - OLR(T, tau=tau1) )\n",
        "\n",
        "numsteps = 50\n",
        "Tsteps1 = np.zeros(numsteps+1)\n",
        "Tsteps2 = np.zeros(numsteps+1)\n",
        "Tsteps3 = np.zeros(numsteps+1)\n",
        "Years = np.zeros(numsteps+1)\n",
        "Tsteps2[0] = 288.\n",
        "Tsteps1[0] = 288.\n",
        "Tsteps3[0] = 288.\n",
        "for n in range(numsteps):\n",
        "    Years[n+1] = n+1\n",
        "    Tsteps1[n+1] = step_forward( Tsteps1[n], 0.32, 0.61)\n",
        "    Tsteps2[n+1] = step_forward( Tsteps2[n], 0.32, 0.57)\n",
        "    Tsteps3[n+1] = step_forward( Tsteps3[n], 0.2, 0.61)\n",
        "print(Tsteps)\n",
        "\n",
        "plt.plot(Years, Tsteps1)\n",
        "plt.plot(Years, Tsteps2)\n",
        "plt.plot(Years, Tsteps3)\n",
        "\n",
        "plt.xlabel('Years')\n",
        "plt.ylabel('Global mean temperature (K)');"
      ],
      "metadata": {
        "colab": {
          "base_uri": "https://localhost:8080/",
          "height": 495
        },
        "id": "BS_tPPEWtBPr",
        "outputId": "755c0cd9-59c3-4f9b-ee66-2994e9b95733"
      },
      "execution_count": null,
      "outputs": [
        {
          "output_type": "stream",
          "name": "stdout",
          "text": [
            "The effective heat capacity is 4.0e+08 J/m2/K\n",
            "[288.         288.38390133 288.72097528 289.01677926 289.27624693\n",
            " 289.50374981 289.70315491 289.87787792 290.03093201 290.16497231\n",
            " 290.28233615 290.38507932 290.47500863 290.55371103 290.62257954\n",
            " 290.68283635 290.73555329 290.78166997 290.82200981 290.8572942\n",
            " 290.88815496 290.91514538 290.93874983 290.95939231 290.97744391\n",
            " 290.99322937 291.00703282 291.01910285 291.02965696 291.03888536\n",
            " 291.04695448 291.05400984 291.06017874 291.06557251 291.0702885\n",
            " 291.07441185 291.07801701 291.08116909 291.08392501 291.08633455\n",
            " 291.08844125 291.09028314 291.09189353 291.0933015  291.09453248\n",
            " 291.09560874 291.0965497  291.09737239 291.09809166 291.09872051\n",
            " 291.09927032]\n"
          ]
        },
        {
          "output_type": "display_data",
          "data": {
            "text/plain": [
              "<Figure size 432x288 with 1 Axes>"
            ],
            "image/png": "[encoded data removed]"
          },
          "metadata": {
            "needs_background": "light"
          }
        }
      ]
    }
  ]
}