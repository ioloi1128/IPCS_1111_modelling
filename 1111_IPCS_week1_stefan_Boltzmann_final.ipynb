{
  "nbformat": 4,
  "nbformat_minor": 0,
  "metadata": {
    "colab": {
      "provenance": [],
      "collapsed_sections": [
        "_zrOs6BwI8OC",
        "AbqI9RAlLMyM",
        "IiA-J2_rNck3"
      ],
      "include_colab_link": true
    },
    "kernelspec": {
      "name": "python3",
      "display_name": "Python 3"
    },
    "language_info": {
      "name": "python"
    }
  },
  "cells": [
    {
      "cell_type": "markdown",
      "metadata": {
        "id": "view-in-github",
        "colab_type": "text"
      },
      "source": [
        "<a href=\"https://colab.research.google.com/github/ioloi1128/IPCS_1111_modelling/blob/main/1111_IPCS_week1_stefan_Boltzmann_final.ipynb\" target=\"_parent\"><img src=\"https://colab.research.google.com/assets/colab-badge.svg\" alt=\"Open In Colab\"/></a>"
      ]
    },
    {
      "cell_type": "markdown",
      "source": [
        "###Week 1: Outgoing Longwave Radiation (OLR), absorbed shortwave radiation (ASR), and equilibrium temperature\n",
        "\n",
        "created by Yi-Chi Wang\n",
        "\n",
        "updated: September 21, 2022\n",
        "\n",
        "Materials are modified from \n",
        "https://brian-rose.github.io/ClimateLaboratoryBook/courseware/models-budgets-fun.html"
      ],
      "metadata": {
        "id": "YXbJBtcqdeKc"
      }
    },
    {
      "cell_type": "markdown",
      "source": [
        "### I. The Stephan-Boltzmann equation and OLR\n",
        "\n",
        "The Stephan-Boltzmann equation describes the total power emitted from a black body. Here, we can first assume the Earth is a blackbody, the total emitted power (i.e. outgoing longwave radiation; **OLR**) of the Earth can be estimated by the S-B equation by assuming surface temperature ($T_s$) as 15$^{∘}C$ (i.e. 288K) with the following:\n",
        "\n",
        "$$ \\text{OLR} = \\sigma T_s^4 $$\n",
        "\n",
        "where $\\sigma$ is the Stephan-Boltzmann constant, $5.67*10^{-8} W m^{-2} K^{-4}$.\n",
        "\n",
        "##In-class exercise (1.a):\n",
        " **What the OLR of the Earth if Earth is a blackbody?**\n",
        "\n",
        "**Please plot out how the OLR changes with respect to surface temperature.**"
      ],
      "metadata": {
        "id": "lmLaei6mGiGw"
      }
    },
    {
      "cell_type": "markdown",
      "source": [
        "(1) import the python librarys"
      ],
      "metadata": {
        "id": "-9qEYaTxdm2z"
      }
    },
    {
      "cell_type": "code",
      "execution_count": null,
      "metadata": {
        "id": "xlci-rJyIjzK"
      },
      "outputs": [],
      "source": [
        "%matplotlib inline\n",
        "import matplotlib.pyplot as plt\n",
        "plt.style.use('seaborn-whitegrid')\n",
        "import numpy as np\n"
      ]
    },
    {
      "cell_type": "markdown",
      "source": [
        "(2) set up temperature array and calculate outgoing longwave radiation based on Stefan-Boltzmann equation."
      ],
      "metadata": {
        "id": "wwqfBP5vPf8x"
      }
    },
    {
      "cell_type": "code",
      "source": [
        "T = np.linspace(230, 300, 10)\n",
        "#print(T)\n",
        "\n",
        "#Stefan-Boltzmann law\n",
        "sigma = 5.67*pow(10,-8)\n",
        "\n",
        "#3. Using Python to compute emission to space\n",
        "OLR = sigma*(T**4)"
      ],
      "metadata": {
        "id": "43SfVn7fPZK3"
      },
      "execution_count": null,
      "outputs": []
    },
    {
      "cell_type": "markdown",
      "source": [
        "(3) Plot the relationship between temperature (T) and outgoing longwave radiation (OLR). "
      ],
      "metadata": {
        "id": "JF8llhi_Pwug"
      }
    },
    {
      "cell_type": "code",
      "source": [
        "# Black body: \n",
        "# Only a fraction of the surface emission makes it out to space.\n",
        "fig = plt.figure()\n",
        "ax = plt.axes()\n",
        "\n",
        "ax.plot(T, OLR);\n",
        "plt.xlabel('Temperature (K)', fontsize=18)\n",
        "plt.ylabel('OLR (W/m2)', fontsize=18)\n"
      ],
      "metadata": {
        "colab": {
          "base_uri": "https://localhost:8080/",
          "height": 300
        },
        "id": "9w-bIvW9JTUk",
        "outputId": "0c2433b6-c430-4711-ee30-986d18a0599e"
      },
      "execution_count": null,
      "outputs": [
        {
          "output_type": "execute_result",
          "data": {
            "text/plain": [
              "Text(0, 0.5, 'OLR (W/m2)')"
            ]
          },
          "metadata": {},
          "execution_count": 5
        },
        {
          "output_type": "display_data",
          "data": {
            "text/plain": [
              "<Figure size 432x288 with 1 Axes>"
            ],
            "image/png": "[encoded data removed]"
          },
          "metadata": {}
        }
      ]
    },
    {
      "cell_type": "markdown",
      "source": [
        "However, in the real world, because the existence of green house gas, only a fraction of surface emission will be emitted back to the space. Here, we introduce a parameter \"transmissity τ\" to represent such property. Thus the **OLR** can be represented by:\n",
        "\n",
        "$$ \\text{OLR} = \\tau \\sigma T_s^4 $$\n",
        "\n",
        "where $\\tau$ is the **transmissivity** of the atmosphere, a number less than 1 that represents the greenhouse effect of Earth's atmosphere.\n",
        "\n",
        "Then we can try to estimate the transmissity τ over the Earth by using temperature = $15^{∘} C$ and outgoing longwave radiation = 238.5 $W/m^2$.\n",
        "\n",
        "##In-class exercise (1.b):\n",
        " **What the transmissivity of the Earth?**\n"
      ],
      "metadata": {
        "id": "q7lKCfnQQO5C"
      }
    },
    {
      "cell_type": "markdown",
      "source": [
        "###code"
      ],
      "metadata": {
        "id": "_zrOs6BwI8OC"
      }
    },
    {
      "cell_type": "code",
      "source": [
        "# Estimate the fraction parameter tau of the Earth\n",
        "# T ~ 15C ~ 288K\n",
        "tau   = 238.5 / sigma / 288**4\n",
        "print(tau)"
      ],
      "metadata": {
        "colab": {
          "base_uri": "https://localhost:8080/"
        },
        "id": "EAu9K6sII_iW",
        "outputId": "8039aeb9-c71c-4156-8b3d-9bb0d745033c"
      },
      "execution_count": null,
      "outputs": [
        {
          "output_type": "stream",
          "name": "stdout",
          "text": [
            "0.6114139923687016\n"
          ]
        }
      ]
    },
    {
      "cell_type": "markdown",
      "source": [
        "###Part II: Absorbed Shortwave Radiation (ASR) and Planetary Albedo\n",
        "\n",
        "Now it's turn to the shortwave part.\n",
        "\n",
        "From the observations, the area-averaged incoming solar radiation or insolation is 340 $W/m^2$, and the reflected shortwave radiation is 100 $W/m^2$.\n",
        "\n",
        "We thus can define the planetary albedo **$α$** as the reflectivity parameter of the Earth.\n",
        "\n",
        "The **Absorbed Shortwave Radiation** (ASR) is the part of the incoming sunlight that is *not* reflected back to space, i.e. that part that is absorbed somewhere within the Earth system.\n",
        "\n",
        "Mathematically we write\n",
        "\n",
        "$$ \\text{ASR} = Q - F_{reflected} = (1-\\alpha) Q $$"
      ],
      "metadata": {
        "id": "1AO-ykUVXd63"
      }
    },
    {
      "cell_type": "markdown",
      "source": [
        "##In-class exercise (2.a):\n",
        " **What the albedo of the Earth given the isolation and reflected SW in observations?**\n",
        "\n",
        " **Please plot out how the ASR changes with respect to albedo.**"
      ],
      "metadata": {
        "id": "hPxO1r7Iu9hK"
      }
    },
    {
      "cell_type": "code",
      "source": [
        "##Introducing the zero-dimensional Energy Balance Model\n",
        "#Global mean insolation\n",
        "\n",
        "Q = 340  # the insolation\n",
        "Freflected = 100  #  reflected shortwave flux in W/m2\n",
        "alpha = Freflected / Q\n",
        "print(alpha)"
      ],
      "metadata": {
        "colab": {
          "base_uri": "https://localhost:8080/"
        },
        "id": "4HBM4QdnNeGf",
        "outputId": "5d2c9a46-2daa-4478-c13e-250153806f79"
      },
      "execution_count": null,
      "outputs": [
        {
          "output_type": "stream",
          "name": "stdout",
          "text": [
            "0.29411764705882354\n"
          ]
        }
      ]
    },
    {
      "cell_type": "markdown",
      "source": [
        "As the result, we can calculate the absorved shortwave radiation (ASR) based on the fact that it is the residual between incoming solar radiation and reflection. "
      ],
      "metadata": {
        "id": "A8KNH2C9esgw"
      }
    },
    {
      "cell_type": "code",
      "source": [
        "ASRobserved = Q - Freflected\n",
        "print(ASRobserved)"
      ],
      "metadata": {
        "colab": {
          "base_uri": "https://localhost:8080/"
        },
        "id": "OZKyxOwNfBg2",
        "outputId": "a35e7ec7-1ba2-42a7-f28c-77ee4a2c3110"
      },
      "execution_count": null,
      "outputs": [
        {
          "output_type": "stream",
          "name": "stdout",
          "text": [
            "240\n"
          ]
        }
      ]
    },
    {
      "cell_type": "code",
      "source": [
        "albedo = np.linspace(0, 1, 10)\n",
        "ASR_arr= Q*(1-albedo)\n",
        "# Only a fraction of the surface emission makes it out to space.\n",
        "fig = plt.figure()\n",
        "ax = plt.axes()\n",
        "\n",
        "ax.plot(albedo, ASR_arr);\n",
        "plt.xlabel('Albedo (K)', fontsize=18)\n",
        "plt.ylabel('ASR (W/m2)', fontsize=18)"
      ],
      "metadata": {
        "colab": {
          "base_uri": "https://localhost:8080/",
          "height": 300
        },
        "id": "eZwci4GDvasI",
        "outputId": "b7609e75-238d-42c5-ccda-7cff845db9cf"
      },
      "execution_count": null,
      "outputs": [
        {
          "output_type": "execute_result",
          "data": {
            "text/plain": [
              "Text(0, 0.5, 'ASR (W/m2)')"
            ]
          },
          "metadata": {},
          "execution_count": 9
        },
        {
          "output_type": "display_data",
          "data": {
            "text/plain": [
              "<Figure size 432x288 with 1 Axes>"
            ],
            "image/png": "[encoded data removed]"
          },
          "metadata": {}
        }
      ]
    },
    {
      "cell_type": "markdown",
      "source": [
        "### Part III: Equilibrium temperature\n",
        "\n",
        "This is one of the central concept of climate modeling.\n",
        "\n",
        "The Earth system is in energy balance when energy in = energy out, i.e. when\n",
        "\n",
        "$$ASR = OLR$$\n",
        "\n",
        "The temperature when the Earth is in energy balance is then defined as the equilibrium temperature.\n",
        "\n",
        "With our simple greenhouse model, we can get an **exact solution** for the equilibrium temperature.\n",
        "\n",
        "First, write down our statement of energy balance:\n",
        "\n",
        "$$ (1-\\alpha) Q = \\tau \\sigma T_s^4 $$\n"
      ],
      "metadata": {
        "id": "skTk9uK4tFVW"
      }
    },
    {
      "cell_type": "markdown",
      "source": [
        "### In-class exercise (3): \n",
        "\n",
        "**What's the equilibrium temperature of the Earth given the above ASR and OLR?**"
      ],
      "metadata": {
        "id": "IiA-J2_rNck3"
      }
    },
    {
      "cell_type": "code",
      "source": [
        "#  define a reusable function!\n",
        "def equilibrium_temperature(alpha,Q,tau):\n",
        "    return ((1-alpha)*Q/(tau*sigma))**(1/4)\n",
        "\n",
        "Teq_observed = equilibrium_temperature(alpha,Q,tau)\n",
        "print(Teq_observed)"
      ],
      "metadata": {
        "colab": {
          "base_uri": "https://localhost:8080/"
        },
        "id": "krgfzhNY7KMw",
        "outputId": "4f15216c-2a2e-4720-9fda-8a90ba303f83"
      },
      "execution_count": null,
      "outputs": [
        {
          "output_type": "stream",
          "name": "stdout",
          "text": [
            "288.45176609431206\n"
          ]
        }
      ]
    },
    {
      "cell_type": "markdown",
      "source": [
        "## In-class exercise (4)\n",
        "1. Given observed albedo, please plot out how the $T_{eq}$ changes with transmissivity.\n",
        "\n",
        "2. Given observed transmissity, please plot out how the $T_{eq}$ changes with albedo."
      ],
      "metadata": {
        "id": "Yz2pQJIaLLml"
      }
    },
    {
      "cell_type": "code",
      "source": [
        "alpha_arr = np.linspace(0, 10, 50)/10.\n",
        "##print(alpha_arr)\n",
        "\n",
        "teq_arr = ((1-alpha_arr)*Q/(tau*sigma))**(1/4)"
      ],
      "metadata": {
        "id": "Btha19bd8alS"
      },
      "execution_count": null,
      "outputs": []
    },
    {
      "cell_type": "code",
      "source": [
        "# T_eq w.r.t. albedo\n",
        "\n",
        "fig = plt.figure()\n",
        "ax = plt.axes()\n",
        "\n",
        "ax.plot(alpha_arr, teq_arr);\n",
        "plt.xlabel('albedo', fontsize=18)\n",
        "plt.ylabel('Teq (K)', fontsize=18)"
      ],
      "metadata": {
        "colab": {
          "base_uri": "https://localhost:8080/",
          "height": 300
        },
        "outputId": "cd00ee7f-040a-4cb8-ece3-b3d63a2cb01b",
        "id": "nCKIN8YnOO7N"
      },
      "execution_count": null,
      "outputs": [
        {
          "output_type": "execute_result",
          "data": {
            "text/plain": [
              "Text(0, 0.5, 'Teq (K)')"
            ]
          },
          "metadata": {},
          "execution_count": 14
        },
        {
          "output_type": "display_data",
          "data": {
            "text/plain": [
              "<Figure size 432x288 with 1 Axes>"
            ],
            "image/png": "[encoded data removed]"
          },
          "metadata": {}
        }
      ]
    },
    {
      "cell_type": "code",
      "source": [
        "tau_arr = np.linspace(0.01, 1, 50)\n",
        "##print(tau_arr)\n",
        "\n",
        "teq_arr = ((1-alpha)*Q/(tau_arr*sigma))**(1/4)"
      ],
      "metadata": {
        "id": "86MmxMH6O83u"
      },
      "execution_count": null,
      "outputs": []
    },
    {
      "cell_type": "code",
      "source": [
        "# T_eq w.r.t. transmissity\n",
        "\n",
        "fig = plt.figure()\n",
        "ax = plt.axes()\n",
        "\n",
        "ax.plot(tau_arr, teq_arr);\n",
        "plt.xlabel('transmissivity', fontsize=18)\n",
        "plt.ylabel('Teq (K)', fontsize=18)"
      ],
      "metadata": {
        "colab": {
          "base_uri": "https://localhost:8080/",
          "height": 300
        },
        "id": "GUsWo39DPPeo",
        "outputId": "ca8f025a-b8ee-41f6-deb2-9262a2086e4b"
      },
      "execution_count": null,
      "outputs": [
        {
          "output_type": "execute_result",
          "data": {
            "text/plain": [
              "Text(0, 0.5, 'Teq (K)')"
            ]
          },
          "metadata": {},
          "execution_count": 18
        },
        {
          "output_type": "display_data",
          "data": {
            "text/plain": [
              "<Figure size 432x288 with 1 Axes>"
            ],
            "image/png": "[encoded data removed]"
          },
          "metadata": {}
        }
      ]
    }
  ]
}